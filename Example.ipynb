{
 "cells": [
  {
   "cell_type": "markdown",
   "metadata": {},
   "source": [
    "##  Import the module"
   ]
  },
  {
   "cell_type": "code",
   "execution_count": 2,
   "metadata": {},
   "outputs": [],
   "source": [
    "from numpyworld import World"
   ]
  },
  {
   "cell_type": "markdown",
   "metadata": {},
   "source": [
    "## Draw colorful lines 1"
   ]
  },
  {
   "cell_type": "code",
   "execution_count": 4,
   "metadata": {},
   "outputs": [
    {
     "data": {
      "image/png": "[encoded data removed]",
      "text/plain": [
       "<Figure size 432x288 with 1 Axes>"
      ]
     },
     "metadata": {
      "needs_background": "light"
     },
     "output_type": "display_data"
    }
   ],
   "source": [
    "world = World()\n",
    "world.enable_jupyter_notebook_mode()\n",
    "#world.disable_jupyter_notebook_mode()\n",
    "\n",
    "width = 1920 // 2\n",
    "height = 1080 // 2\n",
    "world.create_an_image(width=width, height=height)\n",
    "\n",
    "for y in range(height):\n",
    "    if y % 2 == 0:\n",
    "        color = world.get_random_color()\n",
    "        for x in range(width):\n",
    "            world.draw_a_point(x, y, color)\n",
    "\n",
    "world.show()\n",
    "world.save()"
   ]
  },
  {
   "cell_type": "markdown",
   "metadata": {},
   "source": [
    "## Draw colorful lines 2"
   ]
  },
  {
   "cell_type": "code",
   "execution_count": 6,
   "metadata": {},
   "outputs": [
    {
     "name": "stdout",
     "output_type": "stream",
     "text": [
      "[54, 108, 162, 216, 270, 324, 378, 432, 486, 540]\n"
     ]
    },
    {
     "data": {
      "image/png": "[encoded data removed]",
      "text/plain": [
       "<Figure size 432x288 with 1 Axes>"
      ]
     },
     "metadata": {
      "needs_background": "light"
     },
     "output_type": "display_data"
    }
   ],
   "source": [
    "world = World()\n",
    "world.enable_jupyter_notebook_mode()\n",
    "\n",
    "width = 1920 // 2\n",
    "height = 1080 // 2\n",
    "world.create_an_image(width=width, height=height)\n",
    "\n",
    "parts_number = 10\n",
    "part_length = height // parts_number\n",
    "parts = [(part_index+1)*part_length for part_index in range(parts_number)]\n",
    "print(parts)\n",
    "\n",
    "color = world.get_random_color()\n",
    "for y in range(height):\n",
    "    if (y in parts):\n",
    "        color = world.get_random_color()\n",
    "    for x in range(width):\n",
    "        world.draw_a_point(x, y, color)\n",
    "\n",
    "world.show()\n",
    "world.save()"
   ]
  },
  {
   "cell_type": "markdown",
   "metadata": {},
   "source": [
    "## Draw colorful box"
   ]
  },
  {
   "cell_type": "code",
   "execution_count": 8,
   "metadata": {},
   "outputs": [
    {
     "name": "stdout",
     "output_type": "stream",
     "text": [
      "[0, 90, 180, 270, 360, 450, 540]\n",
      "[0, 96, 192, 288, 384, 480, 576, 672, 768, 864, 960]\n"
     ]
    },
    {
     "data": {
      "image/png": "[encoded data removed]",
      "text/plain": [
       "<Figure size 432x288 with 1 Axes>"
      ]
     },
     "metadata": {
      "needs_background": "light"
     },
     "output_type": "display_data"
    }
   ],
   "source": [
    "world = World()\n",
    "world.enable_jupyter_notebook_mode()\n",
    "\n",
    "width = 1920 // 2\n",
    "height = 1080 // 2\n",
    "world.create_an_image(width=width, height=height)\n",
    "\n",
    "y_parts_number = 6 \n",
    "y_part_length = height // y_parts_number\n",
    "y_parts = [(part_index+1)*y_part_length for part_index in range(y_parts_number)]\n",
    "y_parts.insert(0, 0)\n",
    "\n",
    "x_parts_number = 10\n",
    "x_part_length = width // x_parts_number\n",
    "x_parts = [(part_index+1)*x_part_length for part_index in range(x_parts_number)]\n",
    "x_parts.insert(0, 0)\n",
    "\n",
    "print(y_parts)\n",
    "print(x_parts)\n",
    "\n",
    "color = world.get_random_color()\n",
    "for current_y_part in range(y_parts_number):\n",
    "    for current_x_part in range(x_parts_number):\n",
    "        color = world.get_random_color()\n",
    "        for y in range(y_parts[current_y_part], y_parts[current_y_part+1]):\n",
    "            for x in range(x_parts[current_x_part], x_parts[current_x_part+1]):\n",
    "                world.draw_a_point(x, y, color)\n",
    "\n",
    "world.show()\n",
    "world.save()"
   ]
  },
  {
   "cell_type": "markdown",
   "metadata": {},
   "source": [
    "## Draw a circle"
   ]
  },
  {
   "cell_type": "code",
   "execution_count": 23,
   "metadata": {},
   "outputs": [
    {
     "data": {
      "image/png": "[encoded data removed]",
      "text/plain": [
       "<Figure size 432x288 with 1 Axes>"
      ]
     },
     "metadata": {
      "needs_background": "light"
     },
     "output_type": "display_data"
    }
   ],
   "source": [
    "import math\n",
    "\n",
    "world = World()\n",
    "world.enable_jupyter_notebook_mode()\n",
    "\n",
    "width = 1920 // 2\n",
    "height = 1080 // 2\n",
    "world.create_an_image(width=width, height=height)\n",
    "\n",
    "center_x = width // 2\n",
    "center_y = height // 2\n",
    "\n",
    "radius = height // 2.1 \n",
    "parts_number = 8\n",
    "part_of_radius = radius // parts_number\n",
    "parts = [part_of_radius*i for i in range(parts_number+1)]\n",
    "color_list = [world.get_random_color() for i in range(parts_number)]\n",
    "current_part_number = 0\n",
    "for y in range(height):\n",
    "    for x in range(width):\n",
    "        distance = math.sqrt(math.pow((center_x - x), 2) + math.pow((center_y - y), 2))\n",
    "        if distance <= radius:\n",
    "            for i in range(parts_number):\n",
    "                if (parts[i] <= distance <= parts[i + 1]):\n",
    "                    color = color_list[i]\n",
    "            world.draw_a_point(x, y, color)\n",
    "\n",
    "world.show()\n",
    "world.save()"
   ]
  },
  {
   "cell_type": "code",
   "execution_count": null,
   "metadata": {},
   "outputs": [],
   "source": []
  }
 ],
 "metadata": {
  "kernelspec": {
   "display_name": "Python 3",
   "language": "python",
   "name": "python3"
  },
  "language_info": {
   "codemirror_mode": {
    "name": "ipython",
    "version": 3
   },
   "file_extension": ".py",
   "mimetype": "text/x-python",
   "name": "python",
   "nbconvert_exporter": "python",
   "pygments_lexer": "ipython3",
   "version": "3.7.3"
  }
 },
 "nbformat": 4,
 "nbformat_minor": 2
}
